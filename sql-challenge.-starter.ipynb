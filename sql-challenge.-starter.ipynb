
create database emp;
use emp;


CREATE TABLE titles (
    title_id VARCHAR(10)   NOT NULL,
    title VARCHAR(40)   NOT NULL,
    CONSTRAINT pk_titles PRIMARY KEY (
        title_id
     )
);

CREATE TABLE departments (
    dept_no VARCHAR(10)   NOT NULL,
    dept_name VARCHAR(30)   NOT NULL,
    CONSTRAINT pk_departments PRIMARY KEY (
        dept_no
     )
);

CREATE TABLE employees (
    emp_no INTEGER   NOT NULL,
    emp_title_id VARCHAR(10)   NOT NULL,
    birth_date DATE   NOT NULL,
    first_name VARCHAR(20)   NOT NULL,
    last_name VARCHAR(20)   NOT NULL,
    sex VARCHAR(2)   NOT NULL,
    hire_date DATE   NOT NULL,
    CONSTRAINT pk_employees PRIMARY KEY (
        emp_no
     )
);

CREATE TABLE dept_manager (
    dept_no VARCHAR(10)   NOT NULL,
    emp_no INTEGER   NOT NULL
);

CREATE TABLE salaries (
    emp_no INTEGER   NOT NULL,
    salary INTEGER   NOT NULL
);

CREATE TABLE dept_emp (
    emp_no INTEGER   NOT NULL,
    dept_no VARCHAR(10)   NOT NULL
);

ALTER TABLE employees ADD CONSTRAINT fk_employees_emp_title_id FOREIGN KEY(emp_title_id)
REFERENCES titles (title_id);

ALTER TABLE dept_manager ADD CONSTRAINT fk_dept_manager_dept_no FOREIGN KEY(dept_no)
REFERENCES departments (dept_no);

ALTER TABLE dept_manager ADD CONSTRAINT fk_dept_manager_emp_no FOREIGN KEY(emp_no)
REFERENCES employees (emp_no);

ALTER TABLE salaries ADD CONSTRAINT fk_salaries_emp_no FOREIGN KEY(emp_no)
REFERENCES employees (emp_no);

ALTER TABLE dept_emp ADD CONSTRAINT fk_dept_emp_emp_no FOREIGN KEY(emp_no)
REFERENCES employees (emp_no);

ALTER TABLE dept_emp ADD CONSTRAINT fk_dept_emp_dept_no FOREIGN KEY(dept_no)
REFERENCES departments (dept_no);

-- Insert data in titles table

BULK INSERT titles
FROM 'C:\Users\lapto\Downloads\Starter_Code\Starter_Code\data\titles.csv'
WITH (
    FIELDTERMINATOR = ',',  -- Specify the field terminator in your CSV file
    ROWTERMINATOR = '\n',   -- Specify the row terminator in your CSV file
    FIRSTROW = 2,           -- Skip the header row if present

);


select * from titles;



-- Insert data in department table

BULK INSERT departments
FROM 'C:\Users\lapto\Downloads\Starter_Code\Starter_Code\data\departments.csv'
WITH (
    FIELDTERMINATOR = ',',  -- Specify the field terminator in your CSV file
    ROWTERMINATOR = '\n',   -- Specify the row terminator in your CSV file
    FIRSTROW = 2         

);

INSERT INTO departments ("dept_no", "dept_name")
VALUES ('d001', 'Marketing'),
       ('d002', 'Finance'),
       ('d003', 'Human Resources'),
       ('d004', 'Production'),
       ('d005', 'Development'),
       ('d006', 'Quality Management'),
       ('d007', 'Sales'),
       ('d008', 'Research'),
       ('d009', 'Customer Service');


-- INSERT DATA IN EMPLOYEES TABLE
BULK INSERT employees
FROM 'C:\Users\lapto\Downloads\Starter_Code\Starter_Code\data\employees.csv'
WITH (
    FIELDTERMINATOR = ',',    -- Specify the field terminator in your CSV file
    ROWTERMINATOR = '\n',     -- Specify the row terminator in your CSV file
    FIRSTROW = 2,             
    CODEPAGE = 'ACP'          
);

select * from departments;
select * from EMPLOYEES;

--INSERT DATA IN dept_manager

BULK INSERT dept_manager
FROM 'C:\Users\lapto\Downloads\Starter_Code\Starter_Code\data\dept_manager.csv'
WITH (
    FIELDTERMINATOR = ',',    -- Specify the field terminator in your CSV file
    ROWTERMINATOR = '\n',     -- Specify the row terminator in your CSV file
    FIRSTROW = 2,             
    CODEPAGE = 'ACP'          
);

SELECT * FROM dept_manager;

-- INSERT DATA IN salaries
BULK INSERT salaries
FROM 'C:\Users\lapto\Downloads\Starter_Code\Starter_Code\data\salaries.csv'
WITH (
    FIELDTERMINATOR = ',',    -- Specify the field terminator in your CSV file
    ROWTERMINATOR = '\n',     -- Specify the row terminator in your CSV file
    FIRSTROW = 2,             
    CODEPAGE = 'ACP'          
);

SELECT * FROM salaries;

-- INSERT DATA IN dept_emp
BULK INSERT dept_emp
FROM 'C:\Users\lapto\Downloads\Starter_Code\Starter_Code\data\dept_emp.csv'
WITH (
    FIELDTERMINATOR = ',',    -- Specify the field terminator in your CSV file
    ROWTERMINATOR = '\n',     -- Specify the row terminator in your CSV file
    FIRSTROW = 2,             -- Skip the header row if present
    CODEPAGE = 'ACP'          -- Specify the code page of your file (if needed)
);


SELECT * FROM dept_emp;


--Q1
SELECT e.emp_no, e.last_name, e.first_name, e.sex, s.salary
FROM employees e
JOIN salaries s ON e.emp_no = s.emp_no;

-- Q2
SELECT first_name, last_name, hire_date
FROM employees
WHERE YEAR(hire_date) = 1986;

--Q3
SELECT dm.emp_no AS manager_emp_no, dm.dept_no, d.dept_name, e.emp_no, e.last_name, e.first_name
FROM dept_manager dm
JOIN departments d ON dm.dept_no = d.dept_no
JOIN employees e ON dm.emp_no = e.emp_no;

-- Q4
SELECT de.emp_no, e.last_name, e.first_name, de.dept_no, d.dept_name
FROM dept_emp de
JOIN employees e ON de.emp_no = e.emp_no
JOIN departments d ON de.dept_no = d.dept_no;


-- Q5
SELECT first_name, last_name, sex
FROM employees
WHERE first_name = 'Hercules' AND last_name LIKE 'B%';



--Q6
SELECT e.emp_no, e.last_name, e.first_name
FROM employees e
JOIN dept_emp de ON e.emp_no = de.emp_no
JOIN departments d ON de.dept_no = d.dept_no
WHERE d.dept_name = 'Sales';


-- Q7
SELECT e.emp_no, e.last_name, e.first_name, d.dept_name
FROM employees e
JOIN dept_emp de ON e.emp_no = de.emp_no
JOIN departments d ON de.dept_no = d.dept_no
WHERE d.dept_name IN ('Sales', 'Development');


--Q8
SELECT last_name, COUNT(*) AS name_count
FROM employees
GROUP BY last_name
ORDER BY name_count DESC;
